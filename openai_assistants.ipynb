{
  "nbformat": 4,
  "nbformat_minor": 0,
  "metadata": {
    "colab": {
      "provenance": [],
      "authorship_tag": "ABX9TyN9/vvMzimTxwTg4oJLa3hu",
      "include_colab_link": true
    },
    "kernelspec": {
      "name": "python3",
      "display_name": "Python 3"
    },
    "language_info": {
      "name": "python"
    }
  },
  "cells": [
    {
      "cell_type": "markdown",
      "metadata": {
        "id": "view-in-github",
        "colab_type": "text"
      },
      "source": [
        "<a href=\"https://colab.research.google.com/github/elenabcc/openai_textgeneration/blob/main/openai_assistants.ipynb\" target=\"_parent\"><img src=\"https://colab.research.google.com/assets/colab-badge.svg\" alt=\"Open In Colab\"/></a>"
      ]
    },
    {
      "cell_type": "code",
      "execution_count": null,
      "metadata": {
        "id": "zlO7USJzerjY"
      },
      "outputs": [],
      "source": [
        "pip install openai==1.25.0"
      ]
    },
    {
      "cell_type": "code",
      "source": [
        "from openai import OpenAI\n",
        "client = OpenAI(\n",
        "    api_key=\"<your_api_key>\"\n",
        ")"
      ],
      "metadata": {
        "id": "59ebcOLAr1-0"
      },
      "execution_count": null,
      "outputs": []
    },
    {
      "cell_type": "markdown",
      "source": [
        "# Create an Assistant\n",
        "\n",
        "**NOTE**: if you created the assistant in the Playground you can skip the following cells."
      ],
      "metadata": {
        "id": "pO5UzjH-i3GW"
      }
    },
    {
      "cell_type": "markdown",
      "source": [
        "## Upload tool resources\n",
        "\n",
        "Upload files that can be used by the assistant. Needed both for the `code_interpreter` and the `file_search` tools.\n",
        "\n",
        "Files are uploaded using the `File` upload endpoint and must have the purpose set to `assistants` to be used with this API."
      ],
      "metadata": {
        "id": "d2P3SPg3qV4W"
      }
    },
    {
      "cell_type": "code",
      "source": [
        "ek_file = client.files.create(\n",
        "  file=open(\"./exploding_kittens.pdf\", \"rb\"),\n",
        "  purpose='assistants'\n",
        ")\n",
        "\n",
        "ttr_file = client.files.create(\n",
        "  file=open(\"./ticket_to_ride.pdf\", \"rb\"),\n",
        "  purpose='assistants'\n",
        ")"
      ],
      "metadata": {
        "id": "uYtXYlY5qHSq"
      },
      "execution_count": null,
      "outputs": []
    },
    {
      "cell_type": "markdown",
      "source": [
        "## Create the Assistant\n",
        "\n",
        "To get started, creating an Assistant only requires specifying the `model` to use. But you can further customize the behavior of the Assistant:\n",
        "\n",
        "- Use the `instructions` parameter to guide the personality of the Assistant and define its goals. Instructions are similar to system messages in the Chat Completions API.\n",
        "- Use the `tools` parameter to give the Assistant access to up to 128 tools. You can give it access to OpenAI-hosted tools like `code_interpreter` and `file_search`, or call a third-party tools via a `function` calling.\n",
        "- Use the `tool_resources` parameter to give the tools like `code_interpreter` and `file_search` access to files."
      ],
      "metadata": {
        "id": "0OICto3StZm5"
      }
    },
    {
      "cell_type": "code",
      "source": [
        "assistant = client.beta.assistants.create(\n",
        "  name=\"Board Game Buddy\",\n",
        "  instructions=\"You are a board game expert. Your task is to explain to a six-year-old how to play Exploding Kittens and Ticket to Ride. Please use a simple language so that the kid can understand the rules.\",\n",
        "  tools=[{\"type\": \"file_search\"}],\n",
        "  model=\"gpt-4-turbo\",\n",
        "  tool_resources={\n",
        "    \"file_search\": {\n",
        "      \"file_ids\": [ek_file.id, ttr_file.id]\n",
        "    }\n",
        "  }\n",
        ")"
      ],
      "metadata": {
        "id": "Ai8OUHIhiXpd"
      },
      "execution_count": null,
      "outputs": []
    },
    {
      "cell_type": "markdown",
      "source": [
        "# Load an Assistant\n",
        "\n",
        "If you want to use an assistant you already created run this cell."
      ],
      "metadata": {
        "id": "QwRrubUZjL5Q"
      }
    },
    {
      "cell_type": "code",
      "source": [
        "assistant = client.beta.assistants.retrieve(\n",
        "    assistant_id=\"<your_assistant_id>\"\n",
        ")\n",
        "assistant.dict()"
      ],
      "metadata": {
        "id": "6qZSOZEsjVXL"
      },
      "execution_count": null,
      "outputs": []
    },
    {
      "cell_type": "markdown",
      "source": [
        "\n",
        "# Create a Thread\n",
        "A Thread represents a conversation between a user and one or many Assistants. You can create a Thread when a user (or your AI application) starts a conversation with your Assistant."
      ],
      "metadata": {
        "id": "PaN_3LIgjf-R"
      }
    },
    {
      "cell_type": "code",
      "source": [
        "thread = client.beta.threads.create()"
      ],
      "metadata": {
        "id": "pzZbU06Xjfiu"
      },
      "execution_count": null,
      "outputs": []
    },
    {
      "cell_type": "markdown",
      "source": [
        "# Add a Message to the Thread\n",
        "The contents of the messages your users or applications create are added as Message objects to the Thread. Messages can contain both text and files. There is no limit to the number of Messages you can add to Threads — we smartly truncate any context that does not fit into the model's context window.\n"
      ],
      "metadata": {
        "id": "IbZDF8PFjpBU"
      }
    },
    {
      "cell_type": "code",
      "source": [
        "message = client.beta.threads.messages.create(\n",
        "  thread_id=thread.id,\n",
        "  role=\"user\",\n",
        "  content=\"come si gioca a exploding kittens?\"\n",
        ")"
      ],
      "metadata": {
        "id": "BSNadcYgi0lD"
      },
      "execution_count": null,
      "outputs": []
    },
    {
      "cell_type": "markdown",
      "source": [
        "# Create a Run\n",
        "Once all the user Messages have been added to the Thread, you can Run the Thread with any Assistant. Creating a Run uses the model and tools associated with the Assistant to generate a response. These responses are added to the Thread as assistant Messages.\n",
        "\n",
        "Runs are asynchronous, which means you'll want to monitor their status by polling the Run object until a terminal status is reached. For convenience, the 'create and poll' SDK helpers assist both in creating the run and then polling for its completion."
      ],
      "metadata": {
        "id": "WEQeYSWyjxF5"
      }
    },
    {
      "cell_type": "code",
      "source": [
        "\n",
        "run = client.beta.threads.runs.create_and_poll(\n",
        "  thread_id=thread.id,\n",
        "  assistant_id=assistant.id,\n",
        ")"
      ],
      "metadata": {
        "id": "rRCk1ERlj1jh"
      },
      "execution_count": null,
      "outputs": []
    },
    {
      "cell_type": "markdown",
      "source": [
        "\n",
        "Once the Run completes, you can list the Messages added to the Thread by the Assistant."
      ],
      "metadata": {
        "id": "X_5NFPFZj3MH"
      }
    },
    {
      "cell_type": "code",
      "source": [
        "\n",
        "if run.status == 'completed':\n",
        "  messages = client.beta.threads.messages.list(\n",
        "    thread_id=thread.id\n",
        "  )\n",
        "  print(messages.data[0].content[0].text.value)\n",
        "else:\n",
        "  print(run.status)"
      ],
      "metadata": {
        "id": "Q7oeh3wEj5gI"
      },
      "execution_count": null,
      "outputs": []
    },
    {
      "cell_type": "markdown",
      "source": [
        "## Override configurations\n",
        "\n",
        "By default, a Run will use the model and tools configuration specified in Assistant object, but you can override most of these when creating the Run for added flexibility.\n",
        "\n",
        "**NOTE**: The only configuration that cannot be overridden during Run creation is `tool_resources`, you must use the modify Assistant endpoint to do that."
      ],
      "metadata": {
        "id": "P6MjGq8QmRc6"
      }
    },
    {
      "cell_type": "code",
      "source": [
        "\n",
        "run = client.beta.threads.runs.create_and_poll(\n",
        "  thread_id=thread.id,\n",
        "  assistant_id=assistant.id,\n",
        "  instructions=\"You are an extremely ironic board game expert. Your task is to explain how to play Exploding Kittens and Ticket to Ride. Please use irony and sarcasm in your answers.\",\n",
        ")"
      ],
      "metadata": {
        "id": "7sQFfcJ5mQvP"
      },
      "execution_count": null,
      "outputs": []
    },
    {
      "cell_type": "code",
      "source": [
        "\n",
        "if run.status == 'completed':\n",
        "  messages = client.beta.threads.messages.list(\n",
        "    thread_id=thread.id\n",
        "  )\n",
        "  print(messages.data[0].content[0].text.value)\n",
        "else:\n",
        "  print(run.status)"
      ],
      "metadata": {
        "id": "LvYJBYcAnHAt"
      },
      "execution_count": null,
      "outputs": []
    }
  ]
}
